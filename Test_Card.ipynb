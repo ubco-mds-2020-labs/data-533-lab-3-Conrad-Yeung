{
 "cells": [
  {
   "cell_type": "markdown",
   "metadata": {},
   "source": [
    "## Testing Card Base Class"
   ]
  },
  {
   "cell_type": "code",
   "execution_count": 1,
   "metadata": {},
   "outputs": [],
   "source": [
    "from Bank.cards import card"
   ]
  },
  {
   "cell_type": "code",
   "execution_count": 2,
   "metadata": {},
   "outputs": [],
   "source": [
    "c1=card.card(121,\"Test Base\",111,1234,1000)"
   ]
  },
  {
   "cell_type": "code",
   "execution_count": 3,
   "metadata": {},
   "outputs": [
    {
     "name": "stdout",
     "output_type": "stream",
     "text": [
      "121\n",
      "Test Base\n",
      "1000\n",
      "111\n",
      "defaultdict(<class 'dict'>, {'2020/12/05, 01:17:35': [1000, 'Initialized Account']})\n"
     ]
    }
   ],
   "source": [
    "print(c1.acct_no)\n",
    "print(c1.acct_title)\n",
    "print(c1.bal_curr)\n",
    "print(c1.card_no)\n",
    "print(c1.trans_hist)"
   ]
  },
  {
   "cell_type": "code",
   "execution_count": 4,
   "metadata": {},
   "outputs": [],
   "source": [
    "# Nothing happens as the function is not implemented\n",
    "c1.makePayment(1234, 20, 'Food Mart')"
   ]
  },
  {
   "cell_type": "code",
   "execution_count": 5,
   "metadata": {},
   "outputs": [
    {
     "name": "stdout",
     "output_type": "stream",
     "text": [
      "Account Holder: Test Base\n",
      "Card Number: 111\n",
      "Current Balance: $1000.00\n"
     ]
    }
   ],
   "source": [
    "c1.checkBalance(1234)"
   ]
  },
  {
   "cell_type": "code",
   "execution_count": 6,
   "metadata": {},
   "outputs": [
    {
     "name": "stdout",
     "output_type": "stream",
     "text": [
      "Account Holder: Test Base\n",
      "Current Balance: $1000.00\n",
      "Your balance history for the past transcations:\n",
      "\n",
      "                     Amount   Card Service Point\n",
      "2020/12/05, 01:17:35   1000  Initialized Account\n",
      "Current Available Balance: $1000\n"
     ]
    }
   ],
   "source": [
    "c1.checkTransactions(1234)"
   ]
  },
  {
   "cell_type": "code",
   "execution_count": 7,
   "metadata": {},
   "outputs": [
    {
     "name": "stdout",
     "output_type": "stream",
     "text": [
      "Card pin code successfully changed!\n"
     ]
    }
   ],
   "source": [
    "c1.changePIN(1234, 4321)"
   ]
  },
  {
   "cell_type": "code",
   "execution_count": null,
   "metadata": {},
   "outputs": [],
   "source": []
  },
  {
   "cell_type": "markdown",
   "metadata": {},
   "source": [
    "## Testing Credit Card Class"
   ]
  },
  {
   "cell_type": "code",
   "execution_count": 8,
   "metadata": {},
   "outputs": [],
   "source": [
    "from Bank.cards import credit"
   ]
  },
  {
   "cell_type": "code",
   "execution_count": 9,
   "metadata": {},
   "outputs": [],
   "source": [
    "c2 = credit.credit(121,\"Aamir\",111,1234,amount=500)"
   ]
  },
  {
   "cell_type": "code",
   "execution_count": 10,
   "metadata": {},
   "outputs": [
    {
     "name": "stdout",
     "output_type": "stream",
     "text": [
      "Your card credit limit is $0.00.\n",
      "\n"
     ]
    }
   ],
   "source": [
    "c2.checkCreditLimit(1234)"
   ]
  },
  {
   "cell_type": "code",
   "execution_count": 11,
   "metadata": {},
   "outputs": [
    {
     "name": "stdout",
     "output_type": "stream",
     "text": [
      "Account Holder: Aamir\n",
      "Card Number: 111\n",
      "Current Balance: $500.00\n",
      "Your card credit limit has increased from $0.00 to $1500.00.\n",
      "\n"
     ]
    }
   ],
   "source": [
    "c2.setCreditLimit(1234, 7777, 1500)"
   ]
  },
  {
   "cell_type": "code",
   "execution_count": 12,
   "metadata": {},
   "outputs": [
    {
     "name": "stdout",
     "output_type": "stream",
     "text": [
      "Your card credit limit is $1500.00.\n",
      "\n"
     ]
    }
   ],
   "source": [
    "c2.checkCreditLimit(1234)"
   ]
  },
  {
   "cell_type": "code",
   "execution_count": 13,
   "metadata": {},
   "outputs": [
    {
     "name": "stdout",
     "output_type": "stream",
     "text": [
      "Your card interest rate  is 0.00%.\n",
      "\n"
     ]
    }
   ],
   "source": [
    "c2.checkInterestRate(1234)"
   ]
  },
  {
   "cell_type": "code",
   "execution_count": 14,
   "metadata": {},
   "outputs": [
    {
     "name": "stdout",
     "output_type": "stream",
     "text": [
      "Account Holder: Aamir\n",
      "Card Number: 111\n",
      "Current Balance: $500.00\n",
      "Your card interest rate has increased from 0.00% to 8.00%.\n",
      "\n"
     ]
    }
   ],
   "source": [
    "c2.setInterestRate(1234, 7777, 8.0)"
   ]
  },
  {
   "cell_type": "code",
   "execution_count": 15,
   "metadata": {},
   "outputs": [
    {
     "name": "stdout",
     "output_type": "stream",
     "text": [
      "Account Holder: Aamir\n",
      "Card Number: 111\n",
      "Current Balance: $500.00\n"
     ]
    }
   ],
   "source": [
    "c2.checkBalance(1234)"
   ]
  },
  {
   "cell_type": "code",
   "execution_count": 16,
   "metadata": {},
   "outputs": [
    {
     "name": "stdout",
     "output_type": "stream",
     "text": [
      "$2000.00 has been withdrawn from card no. 111 at Food Mart.\n",
      "Available balance: $-1500.00.\n",
      "\n"
     ]
    }
   ],
   "source": [
    "c2.makePayment(1234, 2000, 'Food Mart')"
   ]
  },
  {
   "cell_type": "code",
   "execution_count": 17,
   "metadata": {},
   "outputs": [
    {
     "name": "stdout",
     "output_type": "stream",
     "text": [
      "Your withdrawl amount 10.00 is over your credit limit of $1500.\n",
      "\n",
      "Available balance: $-1500.00.\n",
      "\n"
     ]
    }
   ],
   "source": [
    "c2.makePayment(1234, 10, 'Gas Station')"
   ]
  },
  {
   "cell_type": "code",
   "execution_count": 18,
   "metadata": {},
   "outputs": [
    {
     "name": "stdout",
     "output_type": "stream",
     "text": [
      "Account Holder: Aamir\n",
      "Current Balance: $-1500.00\n",
      "Your balance history for the past transcations:\n",
      "\n",
      "                     Amount   Card Service Point\n",
      "2020/12/05, 01:17:43    500  Initialized Account\n",
      "2020/12/05, 01:17:54  -2000            Food Mart\n",
      "Current Available Balance: $-1500\n",
      "Current Interest Rate: 8.00%.\n"
     ]
    }
   ],
   "source": [
    "c2.checkTransactions(1234)"
   ]
  },
  {
   "cell_type": "code",
   "execution_count": null,
   "metadata": {},
   "outputs": [],
   "source": []
  },
  {
   "cell_type": "markdown",
   "metadata": {},
   "source": [
    "## Testing Debit Card Class"
   ]
  },
  {
   "cell_type": "code",
   "execution_count": 19,
   "metadata": {},
   "outputs": [],
   "source": [
    "from Bank.cards import debit"
   ]
  },
  {
   "cell_type": "code",
   "execution_count": 20,
   "metadata": {},
   "outputs": [],
   "source": [
    "c3 = debit.debit(121,\"Khan\",111,1234,amount=500)"
   ]
  },
  {
   "cell_type": "code",
   "execution_count": 21,
   "metadata": {},
   "outputs": [
    {
     "name": "stdout",
     "output_type": "stream",
     "text": [
      "Your card daily transaction limit is $500.00.\n",
      "\n"
     ]
    }
   ],
   "source": [
    "c3.checkTransactionLimit(1234)"
   ]
  },
  {
   "cell_type": "code",
   "execution_count": 22,
   "metadata": {},
   "outputs": [
    {
     "name": "stdout",
     "output_type": "stream",
     "text": [
      "$100.00 has been withdrawn from card no. 111 at Gas Station.\n",
      "Available balance: $400.00.\n",
      "\n"
     ]
    }
   ],
   "source": [
    "c3.makePayment(1234, 100, 'Gas Station')"
   ]
  },
  {
   "cell_type": "code",
   "execution_count": 23,
   "metadata": {},
   "outputs": [
    {
     "name": "stdout",
     "output_type": "stream",
     "text": [
      "Your withdrawl amount 450.00 is over your account balance $400.\n",
      "\n"
     ]
    }
   ],
   "source": [
    "c3.makePayment(1234, 450, 'Car Station')"
   ]
  },
  {
   "cell_type": "code",
   "execution_count": 24,
   "metadata": {},
   "outputs": [
    {
     "name": "stdout",
     "output_type": "stream",
     "text": [
      "$350.00 has been withdrawn from card no. 111 at Car Station.\n",
      "Available balance: $50.00.\n",
      "\n"
     ]
    }
   ],
   "source": [
    "c3.makePayment(1234, 350, 'Car Station')"
   ]
  },
  {
   "cell_type": "code",
   "execution_count": 25,
   "metadata": {},
   "outputs": [
    {
     "name": "stdout",
     "output_type": "stream",
     "text": [
      "You have the platinum debit card\n"
     ]
    }
   ],
   "source": [
    "c3.checkCardType(1234)"
   ]
  },
  {
   "cell_type": "code",
   "execution_count": 26,
   "metadata": {},
   "outputs": [
    {
     "name": "stdout",
     "output_type": "stream",
     "text": [
      "Account Holder: Khan\n",
      "Card Number: 111\n",
      "Current Balance: $50.00\n",
      "Your debit card type has been set to Diamond\n"
     ]
    }
   ],
   "source": [
    "c3.changeCardType(1234, 7777, 'Diamond')"
   ]
  },
  {
   "cell_type": "code",
   "execution_count": 27,
   "metadata": {},
   "outputs": [
    {
     "name": "stdout",
     "output_type": "stream",
     "text": [
      "Account Holder: Khan\n",
      "Current Balance: $50.00\n",
      "Your balance history for the past transcations:\n",
      "\n",
      "                     Amount   Card Service Point\n",
      "2020/12/05, 01:18:01    500  Initialized Account\n",
      "2020/12/05, 01:18:02   -100          Gas Station\n",
      "2020/12/05, 01:18:04   -350          Car Station\n",
      "Current Available Balance: $50\n"
     ]
    }
   ],
   "source": [
    "c3.checkTransactions(1234)"
   ]
  },
  {
   "cell_type": "code",
   "execution_count": null,
   "metadata": {},
   "outputs": [],
   "source": []
  },
  {
   "cell_type": "code",
   "execution_count": null,
   "metadata": {},
   "outputs": [],
   "source": []
  }
 ],
 "metadata": {
  "kernelspec": {
   "display_name": "Python 3",
   "language": "python",
   "name": "python3"
  },
  "language_info": {
   "codemirror_mode": {
    "name": "ipython",
    "version": 3
   },
   "file_extension": ".py",
   "mimetype": "text/x-python",
   "name": "python",
   "nbconvert_exporter": "python",
   "pygments_lexer": "ipython3",
   "version": "3.8.3"
  }
 },
 "nbformat": 4,
 "nbformat_minor": 4
}
